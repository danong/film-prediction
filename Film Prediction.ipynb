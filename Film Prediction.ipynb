{
 "cells": [
  {
   "cell_type": "markdown",
   "metadata": {},
   "source": [
    "# Film Prediction"
   ]
  },
  {
   "cell_type": "markdown",
   "metadata": {},
   "source": [
    "The success of a film is usually measured by looking at both its critical performance (reviews/scores) and commercial performance (gross). I want to see if it is possible to predict an upcoming film's success by using machine learning and data about the film."
   ]
  },
  {
   "cell_type": "markdown",
   "metadata": {},
   "source": [
    "First, I import the necessary packages."
   ]
  },
  {
   "cell_type": "code",
   "execution_count": 10,
   "metadata": {
    "collapsed": false
   },
   "outputs": [],
   "source": [
    "import matplotlib.pyplot as plt\n",
    "import numpy as np\n",
    "from sklearn import linear_model\n",
    "from sklearn.preprocessing import PolynomialFeatures\n",
    "import omdb"
   ]
  },
  {
   "cell_type": "markdown",
   "metadata": {},
   "source": [
    "# Importing Data"
   ]
  },
  {
   "cell_type": "markdown",
   "metadata": {},
   "source": [
    "It is surprisingly difficult to find a good film dataset because IMDb doesn't have an API. Instead, they provide a dump of text files with inconsistent formats. Using those text files with MySQL and IMDbPY proved to be frustrating. Instead, I will use the movie dataset included in the ggplot R package ([available here](http://had.co.nz/data/movies/))."
   ]
  },
  {
   "cell_type": "code",
   "execution_count": 11,
   "metadata": {
    "collapsed": false
   },
   "outputs": [],
   "source": [
    "data = np.genfromtxt('movies.tab', delimiter = '\\t', skip_header = 1, usecols = (1, 2, 3, 4))"
   ]
  },
  {
   "cell_type": "markdown",
   "metadata": {},
   "source": [
    "columns: year, length, budget, rating"
   ]
  },
  {
   "cell_type": "markdown",
   "metadata": {},
   "source": [
    "Next I split the data into input variables (X) and output variables (y)."
   ]
  },
  {
   "cell_type": "code",
   "execution_count": 12,
   "metadata": {
    "collapsed": true
   },
   "outputs": [],
   "source": [
    "# remove rows with missing data. how does this work?!\n",
    "data = data[~np.isnan(data).any(axis=1)]\n",
    "# create X and Y\n",
    "data_X = data[:, :3]\n",
    "data_y = data[:, 3]"
   ]
  },
  {
   "cell_type": "markdown",
   "metadata": {},
   "source": [
    "I again split the data into training and test sets."
   ]
  },
  {
   "cell_type": "code",
   "execution_count": 13,
   "metadata": {
    "collapsed": true
   },
   "outputs": [],
   "source": [
    "data_X_train = data_X[:-200]\n",
    "data_X_test = data_X[-200:]\n",
    "data_y_train = data_y[:-200]\n",
    "data_y_test = data_y[-200:]"
   ]
  },
  {
   "cell_type": "markdown",
   "metadata": {},
   "source": [
    "Use scikit-learn's linear regression toolkit."
   ]
  },
  {
   "cell_type": "code",
   "execution_count": 14,
   "metadata": {
    "collapsed": false
   },
   "outputs": [
    {
     "data": {
      "text/plain": [
       "LinearRegression(copy_X=True, fit_intercept=True, n_jobs=1, normalize=False)"
      ]
     },
     "execution_count": 14,
     "metadata": {},
     "output_type": "execute_result"
    }
   ],
   "source": [
    "# Create linear regression object\n",
    "regr = linear_model.LinearRegression()\n",
    "\n",
    "# Train the model using the training sets\n",
    "regr.fit(data_X_train, data_y_train)"
   ]
  },
  {
   "cell_type": "markdown",
   "metadata": {},
   "source": [
    "Display the results"
   ]
  },
  {
   "cell_type": "code",
   "execution_count": 15,
   "metadata": {
    "collapsed": false
   },
   "outputs": [
    {
     "name": "stdout",
     "output_type": "stream",
     "text": [
      "Coefficients: \n",
      " [ -3.88070485e-03   1.45282685e-03  -3.40938046e-10]\n",
      "Residual sum of squares: 2.41\n",
      "Coefficient of determination: -0.02\n"
     ]
    }
   ],
   "source": [
    "# The coefficients\n",
    "print('Coefficients: \\n', regr.coef_)\n",
    "# The mean square error\n",
    "print(\"Residual sum of squares: %.2f\" % np.mean((regr.predict(data_X_test) - data_y_test) ** 2))\n",
    "# Explained variance score: 1 is perfect prediction\n",
    "print('Coefficient of determination: %.2f' % regr.score(data_X_test, data_y_test))"
   ]
  },
  {
   "cell_type": "markdown",
   "metadata": {},
   "source": [
    "As you can see, the coefficients and variance are all close to 0. This data does not fit well with linear regression. We have either chosen either a bad model or there is no correlation between year, length, budget, and rating."
   ]
  },
  {
   "cell_type": "markdown",
   "metadata": {},
   "source": [
    "# Adding features"
   ]
  },
  {
   "cell_type": "markdown",
   "metadata": {},
   "source": [
    "Since we appear to underfitting the data, I will try adding more features. First, I will generate polynomial features from our current features and add a feature vector which represents the **genre** of a film. Luckily this data is already in the original data file."
   ]
  },
  {
   "cell_type": "code",
   "execution_count": 16,
   "metadata": {
    "collapsed": true
   },
   "outputs": [],
   "source": [
    "data = np.genfromtxt('movies.tab', comments = '\\\\', delimiter = '\\t', skip_header = 1, usecols = (1,2,3,4,17,18,19,20,21,22,23) )"
   ]
  },
  {
   "cell_type": "markdown",
   "metadata": {},
   "source": [
    "### Preprocessing"
   ]
  },
  {
   "cell_type": "code",
   "execution_count": 17,
   "metadata": {
    "collapsed": true
   },
   "outputs": [],
   "source": [
    "# remove rows with missing data. how does this work?!\n",
    "data = data[~np.isnan(data).any(axis=1)]\n",
    "\n",
    "\n",
    "# create X and Y\n",
    "data_X = np.delete(data, 3, 1)\n",
    "data_y = data[:, 3]\n",
    "\n",
    "poly = PolynomialFeatures(2)\n",
    "data_X = poly.fit_transform(data_X)\n",
    "\n",
    "# Split into training/testing\n",
    "data_X_train = data_X[:-800]\n",
    "data_X_test = data_X[-800:]\n",
    "data_y_train = data_y[:-800]\n",
    "data_y_test = data_y[-800:]"
   ]
  },
  {
   "cell_type": "markdown",
   "metadata": {},
   "source": [
    "### Regression"
   ]
  },
  {
   "cell_type": "code",
   "execution_count": 18,
   "metadata": {
    "collapsed": false
   },
   "outputs": [
    {
     "name": "stdout",
     "output_type": "stream",
     "text": [
      "Coefficients: \n",
      " [  0.00000000e+00  -1.66167810e-05   1.70235227e-04  -8.55187946e-07\n",
      "   1.10974076e-06   4.29489050e-07  -2.13560660e-07  -8.02076978e-08\n",
      "   1.00209285e-06   1.07521010e-06   1.22246956e-06  -2.66590067e-06\n",
      "   1.83341463e-05   4.23516377e-10  -4.21537556e-04  -4.68903607e-06\n",
      "   1.40667679e-04   3.63644127e-04   6.01414749e-04   2.83335458e-04\n",
      "   2.15524679e-03  -7.14125357e-05   7.55499442e-11   5.40596809e-03\n",
      "   1.12793898e-02   5.22652029e-04  -3.26526389e-04   3.47002692e-03\n",
      "  -3.55459208e-03  -2.88354160e-02  -6.15214399e-18   2.09012252e-09\n",
      "   5.92407923e-09  -4.19711861e-09  -5.32570607e-09  -1.25531470e-07\n",
      "  -6.85326506e-09   1.66762066e-08   1.09270426e-06  -1.91867127e-05\n",
      "  -2.90939986e-05  -6.17909402e-06   2.27517684e-21   3.11467824e-06\n",
      "   6.28976324e-06   4.21717850e-07  -3.78332626e-05   1.56034157e-06\n",
      "   5.52621487e-06   1.15084267e-05  -1.00183379e-04  -2.33808361e-07\n",
      "  -4.83403125e-05   1.33901989e-05   5.59954020e-05   8.11178395e-05\n",
      "  -7.56254315e-08   5.11592850e-06  -7.16825928e-05  -1.02847092e-05\n",
      "   9.98220051e-07   8.40415602e-07  -6.76807452e-05   1.07508680e-06\n",
      "  -5.65174253e-05   1.22004194e-06]\n",
      "Residual sum of squares: 1.89\n",
      "Coefficient of determination: 0.19\n"
     ]
    }
   ],
   "source": [
    "# Create linear regression object\n",
    "regr = linear_model.LinearRegression()\n",
    "\n",
    "# Train the model using the training sets\n",
    "regr.fit(data_X_train, data_y_train)\n",
    "\n",
    "# The coefficients\n",
    "print('Coefficients: \\n', regr.coef_)\n",
    "# The mean square error\n",
    "print(\"Residual sum of squares: %.2f\" % np.mean((regr.predict(data_X_test) - data_y_test) ** 2))\n",
    "# Explained variance score: 1 is perfect prediction\n",
    "print('Coefficient of determination: %.2f' % regr.score(data_X_test, data_y_test))"
   ]
  },
  {
   "cell_type": "markdown",
   "metadata": {},
   "source": [
    "Our coeffficient of determination has improved slightly but it's still a little low. At this point, I will have to bite the bullet and start working on data collection to find more data which may help our model better predict film scores. After my negative experience working with the IMDb data, I plan on using OMDb (the Open Movie Database) and their API."
   ]
  },
  {
   "cell_type": "markdown",
   "metadata": {},
   "source": [
    "### Quantifying People"
   ]
  },
  {
   "cell_type": "markdown",
   "metadata": {},
   "source": [
    "I suspect that the previous success of the people involved in a film might be an accurate predictor of a film's success. If I want to include this data in my model, however, I will first have to quantify the past performance of people. I think I will simply look at the ratings of a person's past films. I will look at both the lifetime data (i.e. average rating of all past films) and the recent data (i.e. average rating of past 3 films)."
   ]
  },
  {
   "cell_type": "code",
   "execution_count": null,
   "metadata": {
    "collapsed": true
   },
   "outputs": [],
   "source": [
    "data = np.genfromtxt('movies.tab', comments = '\\\\', delimiter = '\\t', skip_header = 1, usecols = (0,1,2,3,4,17,18,19,20,21,22,23) )"
   ]
  },
  {
   "cell_type": "markdown",
   "metadata": {},
   "source": []
  }
 ],
 "metadata": {
  "kernelspec": {
   "display_name": "Python 3",
   "language": "python",
   "name": "python3"
  },
  "language_info": {
   "codemirror_mode": {
    "name": "ipython",
    "version": 3
   },
   "file_extension": ".py",
   "mimetype": "text/x-python",
   "name": "python",
   "nbconvert_exporter": "python",
   "pygments_lexer": "ipython3",
   "version": "3.5.1"
  }
 },
 "nbformat": 4,
 "nbformat_minor": 0
}
